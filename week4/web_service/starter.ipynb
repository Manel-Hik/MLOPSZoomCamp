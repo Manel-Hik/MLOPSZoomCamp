{
 "cells": [
  {
   "cell_type": "code",
   "execution_count": 1,
   "id": "2c51efaa",
   "metadata": {},
   "outputs": [
    {
     "name": "stdout",
     "output_type": "stream",
     "text": [
      "scikit-learn==1.0.2\n",
      "scikit-learn-intelex==2021.20210714.120553\n"
     ]
    }
   ],
   "source": [
    "!pip freeze | grep scikit-learn"
   ]
  },
  {
   "cell_type": "code",
   "execution_count": 1,
   "id": "3fa49255",
   "metadata": {},
   "outputs": [],
   "source": [
    "import pickle\n",
    "import pandas as pd\n"
   ]
  },
  {
   "cell_type": "code",
   "execution_count": 2,
   "id": "7836ccfd",
   "metadata": {},
   "outputs": [],
   "source": [
    "with open('model.bin', 'rb') as f_in:\n",
    "    dv, lr = pickle.load(f_in)"
   ]
  },
  {
   "cell_type": "code",
   "execution_count": 4,
   "id": "41c08294",
   "metadata": {},
   "outputs": [],
   "source": [
    "categorical = ['PUlocationID', 'DOlocationID']\n",
    "\n",
    "def read_data(filename):\n",
    "    df = pd.read_parquet(filename)\n",
    "    \n",
    "    df['duration'] = df.dropOff_datetime - df.pickup_datetime\n",
    "    df['duration'] = df.duration.dt.total_seconds() / 60\n",
    "\n",
    "    df = df[(df.duration >= 1) & (df.duration <= 60)].copy()\n",
    "\n",
    "    df[categorical] = df[categorical].fillna(-1).astype('int').astype('str')\n",
    "    \n",
    "    return df"
   ]
  },
  {
   "cell_type": "code",
   "execution_count": 5,
   "id": "4854399a",
   "metadata": {},
   "outputs": [],
   "source": [
    "df = read_data('https://nyc-tlc.s3.amazonaws.com/trip+data/fhv_tripdata_2021-02.parquet')"
   ]
  },
  {
   "cell_type": "code",
   "execution_count": 6,
   "id": "669fda0a",
   "metadata": {},
   "outputs": [],
   "source": [
    "dicts = df[categorical].to_dict(orient='records')\n",
    "X_val = dv.transform(dicts)\n",
    "y_pred = lr.predict(X_val)"
   ]
  },
  {
   "cell_type": "markdown",
   "id": "20967d23",
   "metadata": {},
   "source": [
    "Q1 Solution"
   ]
  },
  {
   "cell_type": "code",
   "execution_count": 7,
   "id": "fbb56906",
   "metadata": {},
   "outputs": [
    {
     "data": {
      "text/plain": [
       "16.191691679979066"
      ]
     },
     "execution_count": 7,
     "metadata": {},
     "output_type": "execute_result"
    }
   ],
   "source": [
    "y_pred.mean()"
   ]
  },
  {
   "cell_type": "markdown",
   "id": "2c1b7424",
   "metadata": {},
   "source": [
    "Q2: Preparing the output"
   ]
  },
  {
   "cell_type": "code",
   "execution_count": 18,
   "id": "50390694",
   "metadata": {},
   "outputs": [],
   "source": [
    "from datetime import datetime\n",
    "year= datetime.today().year\n",
    "month=datetime.today().month\n",
    "df['ride_id'] = f'{year:04d}/{month:02d}_' + df.index.astype('str')\n",
    "\n",
    "df[\"prediction\"]=y_pred\n",
    "df_result = df[[\"ride_id\" , \"prediction\"]]\n",
    "df_result.to_parquet(\n",
    "    \"df_result\",\n",
    "    engine='pyarrow',\n",
    "    compression=None,\n",
    "    index=False\n",
    ")"
   ]
  },
  {
   "cell_type": "markdown",
   "id": "f4982842",
   "metadata": {},
   "source": [
    "Q3. Creating the scoring script"
   ]
  },
  {
   "cell_type": "code",
   "execution_count": 19,
   "id": "4ca6107d",
   "metadata": {},
   "outputs": [
    {
     "name": "stdout",
     "output_type": "stream",
     "text": [
      "[NbConvertApp] Converting notebook starter.ipynb to script\n",
      "[NbConvertApp] Writing 2186 bytes to starter.py\n"
     ]
    }
   ],
   "source": [
    "!jupyter nbconvert starter.ipynb --to script\n"
   ]
  },
  {
   "cell_type": "markdown",
   "id": "d92edf21",
   "metadata": {},
   "source": [
    "Q4 Solution:\n"
   ]
  },
  {
   "cell_type": "markdown",
   "id": "9c371e58",
   "metadata": {},
   "source": [
    "#first hash for scikit learn \n",
    "#\"sha256:08ef968f6b72033c16c479c966bf37ccd49b06ea91b765e1cc27afefe723920b\""
   ]
  },
  {
   "cell_type": "markdown",
   "id": "407da2c0",
   "metadata": {},
   "source": [
    "Q5. Parametrize the script"
   ]
  },
  {
   "cell_type": "code",
   "execution_count": 20,
   "id": "86c9b978",
   "metadata": {},
   "outputs": [],
   "source": [
    "def get_data_with_date(month,year):\n",
    "    datetime_object1 = datetime.strptime(month,'%B')\n",
    "    datetime_object2 = datetime.strptime(year,'%Y')\n",
    "    \n",
    "    filename= \"https://nyc-tlc.s3.amazonaws.com/trip+data/fhv_tripdata_\"+ str(datetime_object2.year) + \"-\" + str(datetime_object1.month).zfill(2)+\".parquet\"\n",
    "  \n",
    "    df = read_data(filename)\n",
    "    return df"
   ]
  },
  {
   "cell_type": "code",
   "execution_count": 21,
   "id": "5092af28",
   "metadata": {},
   "outputs": [],
   "source": [
    "def get_mean_predicted_duration(df):\n",
    "    dicts = df[categorical].to_dict(orient='records')\n",
    "    X_val = dv.transform(dicts)\n",
    "    y_pred = lr.predict(X_val)\n",
    "    return(y_pred.mean())"
   ]
  },
  {
   "cell_type": "code",
   "execution_count": null,
   "id": "2f248dc0",
   "metadata": {},
   "outputs": [],
   "source": [
    "!python starter.py March 2021\n"
   ]
  },
  {
   "cell_type": "markdown",
   "id": "a16f70f3",
   "metadata": {},
   "source": []
  }
 ],
 "metadata": {
  "kernelspec": {
   "display_name": "Python 3.8.10 64-bit",
   "language": "python",
   "name": "python3"
  },
  "language_info": {
   "codemirror_mode": {
    "name": "ipython",
    "version": 3
   },
   "file_extension": ".py",
   "mimetype": "text/x-python",
   "name": "python",
   "nbconvert_exporter": "python",
   "pygments_lexer": "ipython3",
   "version": "3.8.10"
  },
  "vscode": {
   "interpreter": {
    "hash": "916dbcbb3f70747c44a77c7bcd40155683ae19c65e1c03b4aa3499c5328201f1"
   }
  }
 },
 "nbformat": 4,
 "nbformat_minor": 5
}
